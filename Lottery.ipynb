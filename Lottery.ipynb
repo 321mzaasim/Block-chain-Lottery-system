{
 "cells": [
  {
   "cell_type": "markdown",
   "id": "a2e38328",
   "metadata": {},
   "source": [
    "# Creating a basic Block chain based lottery system"
   ]
  },
  {
   "cell_type": "code",
   "execution_count": 24,
   "id": "7455a47a",
   "metadata": {},
   "outputs": [],
   "source": [
    "import hashlib\n",
    "import time"
   ]
  },
  {
   "cell_type": "code",
   "execution_count": 25,
   "id": "772b633d",
   "metadata": {},
   "outputs": [],
   "source": [
    "global block_chain\n",
    "block_chain=[]  # declaring global list of block_chain"
   ]
  },
  {
   "cell_type": "code",
   "execution_count": 14,
   "id": "d7b259bc",
   "metadata": {},
   "outputs": [],
   "source": [
    "global lottery_data\n",
    "lottery_data = {\n",
    "    \"lotteryid\" : \"\",\n",
    "    \"Name\" : \"\",\n",
    "    \"lottery_number\": \"\",\n",
    "    \"lottery_prize\" : \"\",\n",
    "    \"lottery_date\" : \"\"\n",
    "}               # declaring a dictionary for lottery data"
   ]
  },
  {
   "cell_type": "code",
   "execution_count": 16,
   "id": "8dd9ef7b",
   "metadata": {},
   "outputs": [],
   "source": [
    "def get_data():\n",
    "    for item in lottery_data.keys():\n",
    "        lottery_data[item] = str(input(\"enter %s :\"%item))\n",
    "    ans = str(lottery_data)\n",
    "    \n",
    "    return ans  # getting data for lottery_data dictionary"
   ]
  },
  {
   "cell_type": "code",
   "execution_count": 17,
   "id": "d4a935e0",
   "metadata": {},
   "outputs": [],
   "source": [
    "class neuralBlock:\n",
    "    def __init__(self,frontBlock,currentBlock):\n",
    "        self.frontBlock = frontBlock\n",
    "        self.currentBlock = currentBlock\n",
    "        \n",
    "        self.hashData = \"-\".join(currentBlock)+\"-\"+frontBlock\n",
    "        self.hashEncrypt = hashlib.sha512(self.hashData.encode()).hexdigest()\n",
    "                # hashing the data\n",
    "\n",
    "def createBlock(prevHash,Data):\n",
    "    a = neuralBlock(prevHash,Data)\n",
    "    return a.hashEncrypt  # returning the hash encrypt"
   ]
  },
  {
   "cell_type": "code",
   "execution_count": 18,
   "id": "3008ccf0",
   "metadata": {},
   "outputs": [],
   "source": [
    "def new_block():\n",
    "    l = []\n",
    "    if(len(block_chain) == 0):\n",
    "        key = input(\"Enter genesis new key :\")\n",
    "        value = get_data()\n",
    "        ans = createBlock(key,value)\n",
    "    else:\n",
    "        value = get_data()\n",
    "        ans = createBlock(block_chain[-1][0],value)\n",
    "    t = time.ctime(time.time())\n",
    "    l.append(ans)\n",
    "    l.append(t)\n",
    "    block_chain.append(l) # function to create blocks in the block chain"
   ]
  }
 ],
 "metadata": {
  "kernelspec": {
   "display_name": "Python 3",
   "language": "python",
   "name": "python3"
  },
  "language_info": {
   "codemirror_mode": {
    "name": "ipython",
    "version": 3
   },
   "file_extension": ".py",
   "mimetype": "text/x-python",
   "name": "python",
   "nbconvert_exporter": "python",
   "pygments_lexer": "ipython3",
   "version": "3.8.8"
  }
 },
 "nbformat": 4,
 "nbformat_minor": 5
}
